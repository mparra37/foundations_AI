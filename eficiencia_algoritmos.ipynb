{
 "cells": [
  {
   "cell_type": "markdown",
   "id": "5db52ab9",
   "metadata": {},
   "source": [
    "# Búsqueda Secuencial"
   ]
  },
  {
   "cell_type": "code",
   "execution_count": 1,
   "id": "575ea763",
   "metadata": {},
   "outputs": [],
   "source": [
    "numeros = [2,4,6,7,20,3,63,43,34,99]"
   ]
  },
  {
   "cell_type": "code",
   "execution_count": 2,
   "id": "c2033663",
   "metadata": {},
   "outputs": [],
   "source": [
    "def busqueda_secuencia(arreglo, numero):\n",
    "    for i in range(len(arreglo)):\n",
    "        if(arreglo[i] == numero):\n",
    "            return i\n",
    "    return -1"
   ]
  },
  {
   "cell_type": "code",
   "execution_count": 6,
   "id": "b5f36933",
   "metadata": {},
   "outputs": [
    {
     "name": "stdout",
     "output_type": "stream",
     "text": [
      "-1\n"
     ]
    }
   ],
   "source": [
    "\n",
    "num = 23\n",
    "\n",
    "pos = busqueda_secuencia(numeros, num)\n",
    "print(pos)"
   ]
  },
  {
   "cell_type": "code",
   "execution_count": 8,
   "id": "be96e68f",
   "metadata": {},
   "outputs": [
    {
     "name": "stdout",
     "output_type": "stream",
     "text": [
      "Ingrese un número2\n",
      "0\n"
     ]
    }
   ],
   "source": [
    "entrada_usuario = input(\"Ingrese un número\")\n",
    "numero = int(entrada_usuario)\n",
    "\n",
    "res = busqueda_secuencia(numeros, numero)\n",
    "\n",
    "print(res)"
   ]
  },
  {
   "cell_type": "markdown",
   "id": "55a3d30f",
   "metadata": {},
   "source": [
    "## Búqueda Binaria"
   ]
  },
  {
   "cell_type": "code",
   "execution_count": 45,
   "id": "74b2f2ad",
   "metadata": {},
   "outputs": [],
   "source": [
    "#numeros = [1,2,3,4,5,6,7,8,9,10,11,12,13,14,15,16,17,18,19,20]\n",
    "def busqueda_binaria(arreglo, numero):\n",
    "    \n",
    "    inicio = 0\n",
    "    fin = len(arreglo)\n",
    "    \n",
    "    while inicio <= fin:\n",
    "        medio = (inicio+fin) //2\n",
    "\n",
    "        if arreglo[medio] == numero:\n",
    "            return medio\n",
    "        elif arreglo[medio] < numero:\n",
    "            inicio = medio + 1\n",
    "        else:\n",
    "            fin = medio -1\n",
    "    return -1"
   ]
  },
  {
   "cell_type": "code",
   "execution_count": 18,
   "id": "99046231",
   "metadata": {},
   "outputs": [
    {
     "name": "stdout",
     "output_type": "stream",
     "text": [
      "4\n"
     ]
    }
   ],
   "source": [
    "num = 5\n",
    "\n",
    "print(busqueda_binaria(numeros,num))"
   ]
  },
  {
   "cell_type": "code",
   "execution_count": 49,
   "id": "832427d5",
   "metadata": {},
   "outputs": [],
   "source": [
    "numeros = list(range(1,100000001))\n",
    " \n",
    "#print(numeros)"
   ]
  },
  {
   "cell_type": "code",
   "execution_count": 51,
   "id": "30954ec3",
   "metadata": {},
   "outputs": [
    {
     "name": "stdout",
     "output_type": "stream",
     "text": [
      "99999999\n"
     ]
    }
   ],
   "source": [
    "print(busqueda_secuencia(numeros,100000000))"
   ]
  },
  {
   "cell_type": "code",
   "execution_count": 50,
   "id": "18cb4d1c",
   "metadata": {},
   "outputs": [
    {
     "name": "stdout",
     "output_type": "stream",
     "text": [
      "99999999\n"
     ]
    }
   ],
   "source": [
    "print(busqueda_binaria(numeros,100000000))"
   ]
  },
  {
   "cell_type": "code",
   "execution_count": 53,
   "id": "9352cf67",
   "metadata": {},
   "outputs": [
    {
     "name": "stdout",
     "output_type": "stream",
     "text": [
      "99999999\n",
      "El tiempo secuencial es: 5.799997568130493\n",
      "99999999\n",
      "El tiempo binario es: 0.0\n"
     ]
    }
   ],
   "source": [
    "import time\n",
    "\n",
    "tiempo_inicio = time.time()\n",
    "print(busqueda_secuencia(numeros,100000000))\n",
    "tiempo_fin = time.time()\n",
    "tiempo = tiempo_fin - tiempo_inicio\n",
    "print(\"El tiempo secuencial es: \" + str(tiempo))\n",
    "\n",
    "tiempo_inicio = time.time()\n",
    "print(busqueda_binaria(numeros,100000000))\n",
    "tiempo_fin = time.time()\n",
    "tiempo = tiempo_fin - tiempo_inicio\n",
    "print(\"El tiempo binario es: \" + str(tiempo))"
   ]
  },
  {
   "cell_type": "code",
   "execution_count": null,
   "id": "2b0e412e",
   "metadata": {},
   "outputs": [],
   "source": []
  }
 ],
 "metadata": {
  "kernelspec": {
   "display_name": "Python 3 (ipykernel)",
   "language": "python",
   "name": "python3"
  },
  "language_info": {
   "codemirror_mode": {
    "name": "ipython",
    "version": 3
   },
   "file_extension": ".py",
   "mimetype": "text/x-python",
   "name": "python",
   "nbconvert_exporter": "python",
   "pygments_lexer": "ipython3",
   "version": "3.11.3"
  }
 },
 "nbformat": 4,
 "nbformat_minor": 5
}
