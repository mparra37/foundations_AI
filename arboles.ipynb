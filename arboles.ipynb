{
 "cells": [
  {
   "cell_type": "markdown",
   "id": "289ff8fe",
   "metadata": {},
   "source": [
    "# Árboles"
   ]
  },
  {
   "cell_type": "code",
   "execution_count": 2,
   "id": "b03119ed",
   "metadata": {},
   "outputs": [],
   "source": [
    "# Clase Nodo\n",
    "\n",
    "class Nodo:\n",
    "    def _init_(self, valor):\n",
    "        self.valor = valor\n",
    "        self.izquierda = None\n",
    "        self.derecha = None"
   ]
  },
  {
   "cell_type": "code",
   "execution_count": 3,
   "id": "fcd43fad",
   "metadata": {},
   "outputs": [],
   "source": [
    "class Arbol:\n",
    "    \n",
    "    def __init__(self, val=None):\n",
    "      \n",
    "        # Inicializa el nodo del árbol con un valor\n",
    "        self.valor = val\n",
    "        \n",
    "        # Si el nodo tiene un valor, crea nodos hijos izquierdos y derechos\n",
    "        if self.valor:\n",
    "            self.izquierda = Arbol()\n",
    "            self.derecha = Arbol()\n",
    "        else:\n",
    "            # Si el nodo no tiene un valor, establece los hijos izquierdo y derecho en None\n",
    "            self.izquierda = None\n",
    "            self.derecha = None\n",
    "    \n",
    "    # Verifica si el nodo está vacío (no tiene valor)\n",
    "    def esta_vacio(self):\n",
    "        return (self.valor == None)\n",
    "    \n",
    "    # Inserta un nuevo valor en el árbol\n",
    "    def insertar(self, dato):\n",
    "      \n",
    "        # Si el nodo está vacío, inserta el dato aquí\n",
    "        if self.esta_vacio():\n",
    "            self.valor = dato\n",
    "            \n",
    "            # Crea hijos izquierdo y derecho para el nodo insertado\n",
    "            self.izquierda = Arbol()\n",
    "            self.derecha = Arbol()\n",
    "            print(\"{} ha sido insertado exitosamente\".format(self.valor))\n",
    "            \n",
    "        # Si el dato es menor que el valor actual del nodo, inserta en el subárbol izquierdo\n",
    "        elif dato < self.valor:\n",
    "            self.izquierda.insertar(dato)\n",
    "            return\n",
    "          \n",
    "        # Si el dato es mayor que el valor actual del nodo, inserta en el subárbol derecho\n",
    "        elif dato > self.valor:\n",
    "            self.derecha.insertar(dato)\n",
    "            \n",
    "        # Si el dato es igual al valor actual del nodo, no hacer nada\n",
    "        elif dato == self.valor:\n",
    "            return\n",
    "        \n",
    "    # Recorrido Inorden: Subárbol izquierdo -> Nodo -> Subárbol derecho\n",
    "    def inorden(self):\n",
    "        if not self.esta_vacio():\n",
    "            self.izquierda.inorden()    # Recorrer subárbol izquierdo\n",
    "            print(self.valor, end=\" \")  # Imprimir nodo actual\n",
    "            self.derecha.inorden()      # Recorrer subárbol derecho\n",
    "            \n",
    "    \n",
    "     # Recorrido Preorden: Nodo -> Subárbol izquierdo -> Subárbol derecho\n",
    "    def preorden(self):\n",
    "        if not self.esta_vacio():\n",
    "            print(self.valor, end=\" \")  # Imprimir nodo actual\n",
    "            self.izquierda.preorden()   # Recorrer subárbol izquierdo\n",
    "            self.derecha.preorden()     # Recorrer subárbol derecho\n",
    "            \n",
    "    \n",
    "    # Recorrido Postorden: Subárbol izquierdo -> Subárbol derecho -> Nodo\n",
    "    def postorden(self):\n",
    "        if not self.esta_vacio():\n",
    "            self.izquierda.postorden()  # Recorrer subárbol izquierdo\n",
    "            self.derecha.postorden()    # Recorrer subárbol derecho\n",
    "            print(self.valor, end=\" \")  # Imprimir nodo actual\n"
   ]
  },
  {
   "cell_type": "code",
   "execution_count": 4,
   "id": "3f355db3",
   "metadata": {},
   "outputs": [
    {
     "name": "stdout",
     "output_type": "stream",
     "text": [
      "25 ha sido insertado exitosamente\n",
      "5 ha sido insertado exitosamente\n",
      "35 ha sido insertado exitosamente\n",
      "3 ha sido insertado exitosamente\n",
      "54 ha sido insertado exitosamente\n",
      "92 ha sido insertado exitosamente\n",
      "2 ha sido insertado exitosamente\n"
     ]
    }
   ],
   "source": [
    "bst = Arbol(10)\n",
    "bst.insertar(25)\n",
    "bst.insertar(5)\n",
    "bst.insertar(35)\n",
    "bst.insertar(3)\n",
    "bst.insertar(54)\n",
    "bst.insertar(92)\n",
    "bst.insertar(2)"
   ]
  },
  {
   "cell_type": "code",
   "execution_count": 5,
   "id": "776d1c5b",
   "metadata": {},
   "outputs": [
    {
     "name": "stdout",
     "output_type": "stream",
     "text": [
      "Recorrido Inorden:\n",
      "2 3 5 10 25 35 54 92 \n",
      "Recorrido Preorden:\n",
      "10 5 3 2 25 35 54 92 \n",
      "Recorrido Postorden:\n",
      "2 3 5 92 54 35 25 10 "
     ]
    }
   ],
   "source": [
    "# Imprimir en los tres órdenes\n",
    "\n",
    "print(\"Recorrido Inorden:\")\n",
    "bst.inorden()\n",
    "print(\"\\nRecorrido Preorden:\")\n",
    "bst.preorden()\n",
    "print(\"\\nRecorrido Postorden:\")\n",
    "bst.postorden()"
   ]
  },
  {
   "cell_type": "code",
   "execution_count": 6,
   "id": "31a7b82a",
   "metadata": {},
   "outputs": [
    {
     "name": "stdout",
     "output_type": "stream",
     "text": [
      "navojoa ha sido insertado exitosamente\n",
      "hermosillo ha sido insertado exitosamente\n",
      "guaymas ha sido insertado exitosamente\n",
      "alamos ha sido insertado exitosamente\n"
     ]
    }
   ],
   "source": [
    "#los ordena en orden alfabético\n",
    "\n",
    "bst = Arbol(\"obregon\")\n",
    "bst.insertar(\"navojoa\")\n",
    "bst.insertar(\"hermosillo\")\n",
    "bst.insertar(\"guaymas\")\n",
    "bst.insertar(\"alamos\")\n"
   ]
  },
  {
   "cell_type": "code",
   "execution_count": 7,
   "id": "73e5d2af",
   "metadata": {},
   "outputs": [
    {
     "name": "stdout",
     "output_type": "stream",
     "text": [
      "Recorrido Inorden:\n",
      "alamos guaymas hermosillo navojoa obregon \n",
      "Recorrido Preorden:\n",
      "obregon navojoa hermosillo guaymas alamos \n",
      "Recorrido Postorden:\n",
      "alamos guaymas hermosillo navojoa obregon "
     ]
    }
   ],
   "source": [
    "print(\"Recorrido Inorden:\")\n",
    "bst.inorden()\n",
    "print(\"\\nRecorrido Preorden:\")\n",
    "bst.preorden()\n",
    "print(\"\\nRecorrido Postorden:\")\n",
    "bst.postorden()"
   ]
  },
  {
   "cell_type": "code",
   "execution_count": null,
   "id": "b9e726ce",
   "metadata": {},
   "outputs": [],
   "source": []
  }
 ],
 "metadata": {
  "kernelspec": {
   "display_name": "Python 3 (ipykernel)",
   "language": "python",
   "name": "python3"
  },
  "language_info": {
   "codemirror_mode": {
    "name": "ipython",
    "version": 3
   },
   "file_extension": ".py",
   "mimetype": "text/x-python",
   "name": "python",
   "nbconvert_exporter": "python",
   "pygments_lexer": "ipython3",
   "version": "3.11.3"
  }
 },
 "nbformat": 4,
 "nbformat_minor": 5
}
